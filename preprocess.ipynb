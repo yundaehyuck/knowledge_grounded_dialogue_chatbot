{
 "cells": [
  {
   "cell_type": "markdown",
   "metadata": {},
   "source": [
    "# library"
   ]
  },
  {
   "cell_type": "code",
   "execution_count": 12,
   "metadata": {},
   "outputs": [],
   "source": [
    "import json\n",
    "import os\n",
    "import pickle"
   ]
  },
  {
   "cell_type": "markdown",
   "metadata": {},
   "source": [
    "# train"
   ]
  },
  {
   "cell_type": "code",
   "execution_count": 3,
   "metadata": {},
   "outputs": [],
   "source": [
    "#file in folder\n",
    "file_list = os.listdir('./train')"
   ]
  },
  {
   "cell_type": "code",
   "execution_count": 10,
   "metadata": {},
   "outputs": [],
   "source": [
    "all_train_data = []\n",
    "\n",
    "for file in file_list:\n",
    "\n",
    "    with open(f'./train/{file}', 'r', encoding = 'utf-8') as f:\n",
    "\n",
    "        data = json.load(f)\n",
    "\n",
    "    dialogue = data['utterances']\n",
    "    \n",
    "    for i in range(len(dialogue) - 1):\n",
    "\n",
    "        query = dialogue[i]\n",
    "        answer = dialogue[i+1]\n",
    "\n",
    "        temp = {}\n",
    "\n",
    "        knowledge = []\n",
    "\n",
    "        if answer['reference_text'] is None:\n",
    "\n",
    "            knowledge.append('')\n",
    "        \n",
    "        else:\n",
    "\n",
    "            for v in answer['reference_text']:\n",
    "\n",
    "                knowledge.append(v['value'])\n",
    "        \n",
    "        temp['knowledge'] = knowledge\n",
    "        temp['query'] = query['text']\n",
    "        temp['answer'] = answer['text']\n",
    "\n",
    "        all_train_data.append(temp)\n",
    "\n"
   ]
  },
  {
   "cell_type": "code",
   "execution_count": 11,
   "metadata": {},
   "outputs": [
    {
     "data": {
      "text/plain": [
       "288230"
      ]
     },
     "execution_count": 11,
     "metadata": {},
     "output_type": "execute_result"
    }
   ],
   "source": [
    "len(all_train_data)"
   ]
  },
  {
   "cell_type": "code",
   "execution_count": 13,
   "metadata": {},
   "outputs": [],
   "source": [
    "#save pickle\n",
    "with open('train_data.pickle', 'wb') as f:\n",
    "\n",
    "    pickle.dump(all_train_data, f)"
   ]
  },
  {
   "cell_type": "markdown",
   "metadata": {},
   "source": [
    "# validation"
   ]
  },
  {
   "cell_type": "code",
   "execution_count": 14,
   "metadata": {},
   "outputs": [],
   "source": [
    "#file in folder\n",
    "file_list = os.listdir('./valid')"
   ]
  },
  {
   "cell_type": "code",
   "execution_count": 16,
   "metadata": {},
   "outputs": [
    {
     "data": {
      "text/plain": [
       "1827"
      ]
     },
     "execution_count": 16,
     "metadata": {},
     "output_type": "execute_result"
    }
   ],
   "source": [
    "len(file_list)"
   ]
  },
  {
   "cell_type": "code",
   "execution_count": 17,
   "metadata": {},
   "outputs": [],
   "source": [
    "with open(f'./valid/{file_list[0]}', 'r', encoding = 'utf-8') as f:\n",
    "\n",
    "    data = json.load(f)"
   ]
  },
  {
   "cell_type": "code",
   "execution_count": 19,
   "metadata": {},
   "outputs": [
    {
     "data": {
      "text/plain": [
       "[{'reference_date': None,\n",
       "  'reference_text': None,\n",
       "  'role': '질문자',\n",
       "  'search_URL': None,\n",
       "  'search_query': None,\n",
       "  'terminate': False,\n",
       "  'text': '요즘은 강아지 목줄이 2m가 넘어가면 벌금을 내야 한다고 하던데, 사실이야?',\n",
       "  'turn_id': 'BK22016610-1',\n",
       "  'utterance_id': 'BK22016610.1'},\n",
       " {'reference_date': '44601.0',\n",
       "  'reference_text': [{'value': '기존에는 ‘반려견 동반 외출 시 목줄, 가슴줄 등을 사용해야 한다’는 규정만 있었다.',\n",
       "    'value_time': '44832.0',\n",
       "    'value_type': 'constant'},\n",
       "   {'value': '앞으로 목줄을 착용하지 않거나, 2m 이내로 유지하지 않으면 1차 적발 시 20만원, 2차 30만원, 3차 50만원을 문다.',\n",
       "    'value_time': '44832.0',\n",
       "    'value_type': 'variable'}],\n",
       "  'role': '전문가',\n",
       "  'search_URL': 'https://www.chosun.com/economy/economy_general/2022/02/09/BTTGRXS3FVCALOV2CW6HR6HLNM/',\n",
       "  'search_query': '반려견 목줄 규정',\n",
       "  'terminate': False,\n",
       "  'text': '예전에는 강아지를 데리고 나갈 때 가슴 줄이나 목줄 등을 착용해야 한다는 규정만 있었는데, 이제는 목줄 미착용 시나 2m 이내로 목줄을 유지하지 않으면 안 돼. 처음 적발되면 20만 원, 2차는 30만 원 그리고 3차에는 50만 원의 벌금을 내야 하거든.',\n",
       "  'turn_id': 'BK22016610-1',\n",
       "  'utterance_id': 'BK22016610.2'},\n",
       " {'reference_date': None,\n",
       "  'reference_text': None,\n",
       "  'role': '질문자',\n",
       "  'search_URL': None,\n",
       "  'search_query': None,\n",
       "  'terminate': False,\n",
       "  'text': '목줄에 대한 표준이 따로 정해져 있는 거야?',\n",
       "  'turn_id': 'BK22016610-2',\n",
       "  'utterance_id': 'BK22016610.3'},\n",
       " {'reference_date': '44601.0',\n",
       "  'reference_text': [{'value': '규격화된 목줄이 있는 것은 아니다.',\n",
       "    'value_time': '44832.0',\n",
       "    'value_type': 'variable'},\n",
       "   {'value': '2m 거리를 유지하되, 끊어지지만 않으면 된다.',\n",
       "    'value_time': '44832.0',\n",
       "    'value_type': 'variable'}],\n",
       "  'role': '전문가',\n",
       "  'search_URL': 'https://www.chosun.com/economy/economy_general/2022/02/09/BTTGRXS3FVCALOV2CW6HR6HLNM/',\n",
       "  'search_query': '반려견 목줄 규정',\n",
       "  'terminate': False,\n",
       "  'text': '표준화된 목줄이 따로 정해져 있는 건 아니지만, 목줄이 끊어지면 안 되며 2m 거리를 유지해야 해.',\n",
       "  'turn_id': 'BK22016610-2',\n",
       "  'utterance_id': 'BK22016610.4'},\n",
       " {'reference_date': None,\n",
       "  'reference_text': None,\n",
       "  'role': '질문자',\n",
       "  'search_URL': None,\n",
       "  'search_query': None,\n",
       "  'terminate': False,\n",
       "  'text': '그런데 목줄 길이를 2m로 정한 이유가 있어?',\n",
       "  'turn_id': 'BK22016610-3',\n",
       "  'utterance_id': 'BK22016610.5'},\n",
       " {'reference_date': '44601.0',\n",
       "  'reference_text': [{'value': '목줄 길이를 2m 이내로 정한 것은 전문가 의견과 해외 사례를 고려한 것이다.',\n",
       "    'value_time': '44832.0',\n",
       "    'value_type': 'variable'},\n",
       "   {'value': '주인이 대형견이나 소형견 상관없이 개를 즉각 통제할 수 있는 거리를 2m로 봤다.',\n",
       "    'value_time': '44832.0',\n",
       "    'value_type': 'variable'}],\n",
       "  'role': '전문가',\n",
       "  'search_URL': 'https://www.chosun.com/economy/economy_general/2022/02/09/BTTGRXS3FVCALOV2CW6HR6HLNM/',\n",
       "  'search_query': '목줄길이 2m',\n",
       "  'terminate': False,\n",
       "  'text': '소형견이나 대형견 모두 견주가 강아지를 바로 통제할 수 있는 거리가 2m라는 해외 사례와 전문가 의견을 고려해서 목줄 길이를 2m 이내로 정했어.',\n",
       "  'turn_id': 'BK22016610-3',\n",
       "  'utterance_id': 'BK22016610.6'},\n",
       " {'reference_date': None,\n",
       "  'reference_text': None,\n",
       "  'role': '질문자',\n",
       "  'search_URL': None,\n",
       "  'search_query': None,\n",
       "  'terminate': False,\n",
       "  'text': '그렇다면 해외에서도 목줄 길이를 2m로 정해놨어?',\n",
       "  'turn_id': 'BK22016610-4',\n",
       "  'utterance_id': 'BK22016610.7'},\n",
       " {'reference_date': '44601.0',\n",
       "  'reference_text': [{'value': '미국 로스앤젤레스·뉴욕시는 목줄 길이를 1.8m, 독일 베를린·캐나다 토론토는 2m로 제한하고 있다.',\n",
       "    'value_time': '44832.0',\n",
       "    'value_type': 'variable'}],\n",
       "  'role': '전문가',\n",
       "  'search_URL': 'https://www.chosun.com/economy/economy_general/2022/02/09/BTTGRXS3FVCALOV2CW6HR6HLNM/',\n",
       "  'search_query': '미국 목줄 길이',\n",
       "  'terminate': False,\n",
       "  'text': '독일 베를린과 캐나다 토론토에서는 2m로 목줄 길이를 제한하고 있고, 미국에 있는 뉴욕시 및 로스앤젤레스에서는 1.8m로 정해놨어.',\n",
       "  'turn_id': 'BK22016610-4',\n",
       "  'utterance_id': 'BK22016610.8'},\n",
       " {'reference_date': None,\n",
       "  'reference_text': None,\n",
       "  'role': '질문자',\n",
       "  'search_URL': None,\n",
       "  'search_query': None,\n",
       "  'terminate': False,\n",
       "  'text': '그런데 기존에 2m가 넘는 리드 줄을 사용하고 있었으면, 짧은 줄로 다시 사야 하는 거야?',\n",
       "  'turn_id': 'BK22016610-5',\n",
       "  'utterance_id': 'BK22016610.9'},\n",
       " {'reference_date': '44601.0',\n",
       "  'reference_text': [{'value': '3m, 5m짜리 자동 리드줄을 써도 되지만, 줄을 손목에 감아 고정해 2m 거리를 유지해야 한다.',\n",
       "    'value_time': '44832.0',\n",
       "    'value_type': 'variable'}],\n",
       "  'role': '전문가',\n",
       "  'search_URL': 'https://www.chosun.com/economy/economy_general/2022/02/09/BTTGRXS3FVCALOV2CW6HR6HLNM/',\n",
       "  'search_query': '3m자동 리드줄 거리 유지',\n",
       "  'terminate': False,\n",
       "  'text': '손목에 줄을 감아 고정시켜서 2m 거리를 지키면, 3m나 5m 자동 리드 줄을 사용해도 돼.',\n",
       "  'turn_id': 'BK22016610-5',\n",
       "  'utterance_id': 'BK22016610.10'},\n",
       " {'reference_date': None,\n",
       "  'reference_text': None,\n",
       "  'role': '질문자',\n",
       "  'search_URL': None,\n",
       "  'search_query': None,\n",
       "  'terminate': False,\n",
       "  'text': '그럼 사람이 없을 때에는 목줄을 늘려도 돼?',\n",
       "  'turn_id': 'BK22016610-6',\n",
       "  'utterance_id': 'BK22016610.11'},\n",
       " {'reference_date': '44601.0',\n",
       "  'reference_text': [{'value': '사람이 없다고 거리를 늘리거나 목줄을 풀어선 안 된다.',\n",
       "    'value_time': '44832.0',\n",
       "    'value_type': 'variable'},\n",
       "   {'value': '단, 반려견 놀이터·카페 등에서는 목줄을 착용하지 않거나, 2m 이상 목줄을 사용해도 된다.',\n",
       "    'value_time': '44832.0',\n",
       "    'value_type': 'variable'}],\n",
       "  'role': '전문가',\n",
       "  'search_URL': 'https://www.chosun.com/economy/economy_general/2022/02/09/BTTGRXS3FVCALOV2CW6HR6HLNM/',\n",
       "  'search_query': '목줄 거리 늘리기',\n",
       "  'terminate': False,\n",
       "  'text': '사람이 없다고 해서 목줄을 미착용 하거나 목줄 길이를 늘려서는 안돼. 하지만, 반려견 카페나 놀이터 등에서는 2m 넘는 목줄을 사용해도 되고, 목줄을 풀어도 돼.',\n",
       "  'turn_id': 'BK22016610-6',\n",
       "  'utterance_id': 'BK22016610.12'},\n",
       " {'reference_date': None,\n",
       "  'reference_text': None,\n",
       "  'role': '질문자',\n",
       "  'search_URL': None,\n",
       "  'search_query': None,\n",
       "  'terminate': False,\n",
       "  'text': '강아지를 위한 공간이 아닌 곳에서는 무조건 목줄을 착용 시켜야겠다.',\n",
       "  'turn_id': 'BK22016610-7',\n",
       "  'utterance_id': 'BK22016610.13'},\n",
       " {'reference_date': None,\n",
       "  'reference_text': None,\n",
       "  'role': '전문가',\n",
       "  'search_URL': None,\n",
       "  'search_query': None,\n",
       "  'terminate': False,\n",
       "  'text': '정말 좋은 마음가짐이야. 평소에도 목줄 착용을 잘 지켜줘야 해.',\n",
       "  'turn_id': 'BK22016610-7',\n",
       "  'utterance_id': 'BK22016610.14'},\n",
       " {'reference_date': None,\n",
       "  'reference_text': None,\n",
       "  'role': '질문자',\n",
       "  'search_URL': None,\n",
       "  'search_query': None,\n",
       "  'terminate': False,\n",
       "  'text': '그런데 엘리베이터를 탈 때는 목줄을 어떻게 하는 게 좋을까?',\n",
       "  'turn_id': 'BK22016610-8',\n",
       "  'utterance_id': 'BK22016610.15'},\n",
       " {'reference_date': '44601.0',\n",
       "  'reference_text': [{'value': '계단을 오르내리거나, 엘리베이터를 타고 내릴 때처럼 반려견이 움직여야 하는 경우 목줄을 최소화해 수직으로 유지해야 한다.',\n",
       "    'value_time': '44832.0',\n",
       "    'value_type': 'variable'}],\n",
       "  'role': '전문가',\n",
       "  'search_URL': 'https://www.chosun.com/economy/economy_general/2022/02/09/BTTGRXS3FVCALOV2CW6HR6HLNM/',\n",
       "  'search_query': '엘리베이터 목줄 최소화',\n",
       "  'terminate': False,\n",
       "  'text': '엘리베이터를 탑승하거나 내릴 때 또는 계단을 오르고 내릴 때처럼 강아지가 움직여야 하는 상황이 있을 때는 목줄을 최대한 짧고, 수직인 상태를 지켜야 해.',\n",
       "  'turn_id': 'BK22016610-8',\n",
       "  'utterance_id': 'BK22016610.16'},\n",
       " {'reference_date': None,\n",
       "  'reference_text': None,\n",
       "  'role': '질문자',\n",
       "  'search_URL': None,\n",
       "  'search_query': None,\n",
       "  'terminate': False,\n",
       "  'text': '그렇구나. 공동주택에서는 강아지를 안고 있어야 한다는 말을 들었는데, 단독주택도 포함되는 거야?',\n",
       "  'turn_id': 'BK22016610-9',\n",
       "  'utterance_id': 'BK22016610.17'},\n",
       " {'reference_date': '44601.0',\n",
       "  'reference_text': [{'value': '단, 오피스텔·기숙사 등 준주택이나 단독주택·상가 등은 공동주택에 포함되지 않아 반려견을 안고 다니지 않아도 된다.',\n",
       "    'value_time': '44832.0',\n",
       "    'value_type': 'variable'},\n",
       "   {'value': '대신 목줄을 착용하고 2m 거리를 지켜야 한다.',\n",
       "    'value_time': '44832.0',\n",
       "    'value_type': 'variable'}],\n",
       "  'role': '전문가',\n",
       "  'search_URL': 'https://www.chosun.com/economy/economy_general/2022/02/09/BTTGRXS3FVCALOV2CW6HR6HLNM/',\n",
       "  'search_query': '단독주택 반려견 안고 다니기',\n",
       "  'terminate': False,\n",
       "  'text': '기숙사나 오피스텔 등 준주택에 속하는 곳이나, 상가나 단독주택은 공동주택에 미포함되기 때문에 강아지를 안고 있지 않아도 돼. 그러나 목줄을 착용시키고, 2m 거리를 준수해야 해.',\n",
       "  'turn_id': 'BK22016610-9',\n",
       "  'utterance_id': 'BK22016610.18'},\n",
       " {'reference_date': None,\n",
       "  'reference_text': None,\n",
       "  'role': '질문자',\n",
       "  'search_URL': None,\n",
       "  'search_query': None,\n",
       "  'terminate': False,\n",
       "  'text': '덕분에 강아지 목줄 착용에 대해서 확실하게 알 수 있었어. 고마워!',\n",
       "  'turn_id': 'BK22016610-10',\n",
       "  'utterance_id': 'BK22016610.19'},\n",
       " {'reference_date': None,\n",
       "  'reference_text': None,\n",
       "  'role': '전문가',\n",
       "  'search_URL': None,\n",
       "  'search_query': None,\n",
       "  'terminate': True,\n",
       "  'text': '더 궁금한 게 생기면 언제든지 연락해.',\n",
       "  'turn_id': 'BK22016610-10',\n",
       "  'utterance_id': 'BK22016610.20'}]"
      ]
     },
     "execution_count": 19,
     "metadata": {},
     "output_type": "execute_result"
    }
   ],
   "source": [
    "data['utterances']"
   ]
  },
  {
   "cell_type": "code",
   "execution_count": 20,
   "metadata": {},
   "outputs": [],
   "source": [
    "all_valid_data = []\n",
    "\n",
    "for file in file_list:\n",
    "\n",
    "    with open(f'./valid/{file}', 'r', encoding = 'utf-8') as f:\n",
    "\n",
    "        data = json.load(f)\n",
    "\n",
    "    dialogue = data['utterances']\n",
    "    \n",
    "    for i in range(len(dialogue) - 1):\n",
    "\n",
    "        query = dialogue[i]\n",
    "        answer = dialogue[i+1]\n",
    "\n",
    "        temp = {}\n",
    "\n",
    "        knowledge = []\n",
    "\n",
    "        if answer['reference_text'] is None:\n",
    "\n",
    "            knowledge.append('')\n",
    "        \n",
    "        else:\n",
    "\n",
    "            for v in answer['reference_text']:\n",
    "\n",
    "                knowledge.append(v['value'])\n",
    "        \n",
    "        temp['knowledge'] = knowledge\n",
    "        temp['query'] = query['text']\n",
    "        temp['answer'] = answer['text']\n",
    "\n",
    "        all_valid_data.append(temp)"
   ]
  },
  {
   "cell_type": "code",
   "execution_count": 21,
   "metadata": {},
   "outputs": [
    {
     "data": {
      "text/plain": [
       "35109"
      ]
     },
     "execution_count": 21,
     "metadata": {},
     "output_type": "execute_result"
    }
   ],
   "source": [
    "len(all_valid_data)"
   ]
  },
  {
   "cell_type": "code",
   "execution_count": 22,
   "metadata": {},
   "outputs": [],
   "source": [
    "#save pickle\n",
    "with open('valid_data.pickle', 'wb') as f:\n",
    "\n",
    "    pickle.dump(all_valid_data, f)"
   ]
  },
  {
   "cell_type": "markdown",
   "metadata": {},
   "source": [
    "# load pickle"
   ]
  },
  {
   "cell_type": "code",
   "execution_count": 23,
   "metadata": {},
   "outputs": [
    {
     "name": "stdout",
     "output_type": "stream",
     "text": [
      "288230\n"
     ]
    }
   ],
   "source": [
    "with open('train_data.pickle','rb') as f:\n",
    "\n",
    "    data = pickle.load(f)\n",
    "\n",
    "print(len(data))"
   ]
  },
  {
   "cell_type": "code",
   "execution_count": 24,
   "metadata": {},
   "outputs": [
    {
     "data": {
      "text/plain": [
       "{'knowledge': [''],\n",
       " 'query': '저희 애가 슬슬 이유식을 시작해야 할 것 같은데 언제 시작하면 좋을 지 모르겠어요.',\n",
       " 'answer': '아기가 지금 몇 개월이나 됐죠?'}"
      ]
     },
     "execution_count": 24,
     "metadata": {},
     "output_type": "execute_result"
    }
   ],
   "source": [
    "data[0]"
   ]
  },
  {
   "cell_type": "code",
   "execution_count": null,
   "metadata": {},
   "outputs": [],
   "source": []
  }
 ],
 "metadata": {
  "kernelspec": {
   "display_name": "Python 3",
   "language": "python",
   "name": "python3"
  },
  "language_info": {
   "codemirror_mode": {
    "name": "ipython",
    "version": 3
   },
   "file_extension": ".py",
   "mimetype": "text/x-python",
   "name": "python",
   "nbconvert_exporter": "python",
   "pygments_lexer": "ipython3",
   "version": "3.8.6"
  }
 },
 "nbformat": 4,
 "nbformat_minor": 2
}
